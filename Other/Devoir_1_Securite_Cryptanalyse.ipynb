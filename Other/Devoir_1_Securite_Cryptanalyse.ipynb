{
  "nbformat": 4,
  "nbformat_minor": 0,
  "metadata": {
    "colab": {
      "provenance": [],
      "authorship_tag": "ABX9TyNqtqcrkwlwML5JQ4k3oPqp",
      "include_colab_link": true
    },
    "kernelspec": {
      "name": "python3",
      "display_name": "Python 3"
    },
    "language_info": {
      "name": "python"
    }
  },
  "cells": [
    {
      "cell_type": "markdown",
      "metadata": {
        "id": "view-in-github",
        "colab_type": "text"
      },
      "source": [
        "<a href=\"https://colab.research.google.com/github/desbaa32/Master2BD_tp_pro/blob/master/Other/Devoir_1_Securite_Cryptanalyse.ipynb\" target=\"_parent\"><img src=\"https://colab.research.google.com/assets/colab-badge.svg\" alt=\"Open In Colab\"/></a>"
      ]
    },
    {
      "cell_type": "markdown",
      "source": [
        "## **Devoir CRYPTANALYSE**"
      ],
      "metadata": {
        "id": "IINND8VqSlm0"
      }
    },
    {
      "cell_type": "markdown",
      "source": [
        "#### 1) A partir de votre nom et prénom **déterminer une permutation de l'alphabet avec la règle du tableau 3x9** expliquée au cours"
      ],
      "metadata": {
        "id": "tkJ39-TMS-aL"
      }
    },
    {
      "cell_type": "code",
      "source": [
        "\n",
        "prenomNom=\"serignebassiroudabo\"\n"
      ],
      "metadata": {
        "id": "_ijYh-OFS3Go"
      },
      "execution_count": 70,
      "outputs": []
    },
    {
      "cell_type": "code",
      "source": [
        "import string\n",
        " #suppression occurrence\n",
        "def del_occ(name):\n",
        "  newname=list()\n",
        "  for i in range(len(name)):\n",
        "    if name[i] not in newname :\n",
        "      newname.append(name[i])\n",
        "  return newname\n",
        "#ajout Alpha\n",
        "def add_alphaB(name):\n",
        "  alpha=list(string.ascii_lowercase)\n",
        "  name=del_occ(name)\n",
        "  for i in range(len(alpha)):\n",
        "    if alpha[i] not in name :\n",
        "      name.append(alpha[i])\n",
        "  return name\n",
        "# prenomN_=del_occ(list(prenomNom))\n",
        "add_alpha=add_alphaB(prenomNom)\n",
        "\n",
        "# print(prenomN_)\n",
        "print(add_alpha)"
      ],
      "metadata": {
        "id": "tiyTB2A0XLlf",
        "colab": {
          "base_uri": "https://localhost:8080/"
        },
        "outputId": "0bbdf63e-d0d9-48da-d178-6d87ea9df782"
      },
      "execution_count": 71,
      "outputs": [
        {
          "output_type": "stream",
          "name": "stdout",
          "text": [
            "['s', 'e', 'r', 'i', 'g', 'n', 'b', 'a', 'o', 'u', 'd', 'c', 'f', 'h', 'j', 'k', 'l', 'm', 'p', 'q', 't', 'v', 'w', 'x', 'y', 'z']\n"
          ]
        }
      ]
    },
    {
      "cell_type": "code",
      "source": [
        "## tableau 3*9\n",
        "def newAphaB_table3_9(alphab):\n",
        "  table3_9=list([alphab[:9],alphab[9:18],alphab[18:]])\n",
        "  newAphaB = []\n",
        "  max_len = max(len(row) for row in table3_9)\n",
        "  for col in range(max_len):\n",
        "      for row in range(len(table3_9)):\n",
        "          if col < len(table3_9[row]):\n",
        "              newAphaB.append(table3_9[row][col])\n",
        "  return table3_9,newAphaB\n",
        "table3_9,newAphaB=newAphaB_table3_9(add_alpha)\n",
        "print(table3_9)\n",
        "print(newAphaB)"
      ],
      "metadata": {
        "colab": {
          "base_uri": "https://localhost:8080/"
        },
        "id": "pQ_IZ2TdYww3",
        "outputId": "209d0506-0812-47f8-b079-e38c0a95c513"
      },
      "execution_count": 72,
      "outputs": [
        {
          "output_type": "stream",
          "name": "stdout",
          "text": [
            "[['s', 'e', 'r', 'i', 'g', 'n', 'b', 'a', 'o'], ['u', 'd', 'c', 'f', 'h', 'j', 'k', 'l', 'm'], ['p', 'q', 't', 'v', 'w', 'x', 'y', 'z']]\n",
            "['s', 'u', 'p', 'e', 'd', 'q', 'r', 'c', 't', 'i', 'f', 'v', 'g', 'h', 'w', 'n', 'j', 'x', 'b', 'k', 'y', 'a', 'l', 'z', 'o', 'm']\n"
          ]
        }
      ]
    },
    {
      "cell_type": "code",
      "source": [
        "def permut_funct(key):\n",
        "  alpha=add_alphaB(key)\n",
        "  table3_9,newAphaB=newAphaB_table3_9(alpha)\n",
        "  return newAphaB\n",
        ""
      ],
      "metadata": {
        "id": "wsbEJq-ibX5J"
      },
      "execution_count": 73,
      "outputs": []
    },
    {
      "cell_type": "markdown",
      "source": [
        "\n",
        "2) Chiffrer le texte attaché à l'aide de cette permutation.\n"
      ],
      "metadata": {
        "id": "x1xT46-ES9ON"
      }
    },
    {
      "cell_type": "code",
      "metadata": {
        "colab": {
          "base_uri": "https://localhost:8080/"
        },
        "id": "e2a868c6",
        "outputId": "31478566-08b0-4ea9-bd9a-582cdc4a1f63"
      },
      "source": [
        "#mapping avec alpha\n",
        "def map_alpha(newAphaB):\n",
        "  standard_alphabet = list(string.ascii_lowercase)\n",
        "  mapping = dict(zip(newAphaB, standard_alphabet))\n",
        "  return mapping\n",
        "mapping=map_alpha(newAphaB)\n",
        "print(mapping)\n"
      ],
      "execution_count": 74,
      "outputs": [
        {
          "output_type": "stream",
          "name": "stdout",
          "text": [
            "{'s': 'a', 'u': 'b', 'p': 'c', 'e': 'd', 'd': 'e', 'q': 'f', 'r': 'g', 'c': 'h', 't': 'i', 'i': 'j', 'f': 'k', 'v': 'l', 'g': 'm', 'h': 'n', 'w': 'o', 'n': 'p', 'j': 'q', 'x': 'r', 'b': 's', 'k': 't', 'y': 'u', 'a': 'v', 'l': 'w', 'z': 'x', 'o': 'y', 'm': 'z'}\n"
          ]
        }
      ]
    },
    {
      "cell_type": "code",
      "source": [
        "import string\n",
        "\n",
        "def encrypt_text(text, name):\n",
        "\n",
        "    permuted_alphabet_list = permut_funct(name)\n",
        "    encrypted_text = \"\"\n",
        "    standard_alphabet_list = list(string.ascii_lowercase)\n",
        "    standard_alphabet_str = \"\".join(standard_alphabet_list)\n",
        "\n",
        "    for char in text.lower():\n",
        "        if char in standard_alphabet_str:\n",
        "            original_index = standard_alphabet_str.index(char)\n",
        "\n",
        "            if original_index < len(permuted_alphabet_list):\n",
        "                encrypted_text += permuted_alphabet_list[original_index]\n",
        "            else:\n",
        "                encrypted_text += char\n",
        "\n",
        "        else:\n",
        "            encrypted_text += char\n",
        "\n",
        "    return encrypted_text"
      ],
      "metadata": {
        "id": "3ZHXtof61xiD"
      },
      "execution_count": 75,
      "outputs": []
    },
    {
      "cell_type": "code",
      "metadata": {
        "colab": {
          "base_uri": "https://localhost:8080/"
        },
        "id": "457981a4",
        "outputId": "cf5e7dea-0ee0-4822-97fc-4080ab17b053"
      },
      "source": [
        "file_path = '/content/CSIA.txt'\n",
        "try:\n",
        "    with open(file_path, 'r') as file:\n",
        "        csia_text = file.read()\n",
        "    print(\"File content read successfully.\")\n",
        "    print(csia_text)\n",
        "    encrypted_csia_text = encrypt_text(csia_text, prenomNom)\n",
        "    print(\"\\nText encrypted successfully.\")\n",
        "    print(\"Encrypted text:\")\n",
        "    print(encrypted_csia_text)\n",
        "\n",
        "except FileNotFoundError:\n",
        "    print(f\"Error: The file '{file_path}' was not found.\")\n",
        "except Exception as e:\n",
        "    print(f\"An error occurred: {e}\")"
      ],
      "execution_count": 76,
      "outputs": [
        {
          "output_type": "stream",
          "name": "stdout",
          "text": [
            "File content read successfully.\n",
            "IA et cybersécurité : 8 cas d’usage principaux\n",
            "\n",
            "\n",
            "intelligence et cybersécurité : 8 cas d'usage.\n",
            "24 juillet 2020\n",
            "L’Intelligence Artificielle (IA) est perçue par la plupart des spécialistes comme une avancée très profitable à notre société, permettant de prédire nos besoins et ainsi d’y répondre avec anticipation.\n",
            "En matière de cybersécurité, la simple description de la situation actuelle des menaces dans le cyberespace suffit à comprendre l’intérêt que l’industrie porte à l’intelligence artificielle (IA). Sur le papier, l’IA, avec sa capacité à comprendre et analyser un contexte donné, peut contribuer à y détecter des anomalies ou des comportements inhabituels, révélateurs d’attaques et ainsi, à renforcer les outils de protection, détection, réponse et remédiation : augmentation du taux de détection, détection au plus tôt des attaques, amélioration de la capacité d’adaptation aux évolutions permanentes des SI.\n",
            "1- L’IA intégrée aux équipements et applications de cybersécurité de l’infrastructure\n",
            "Des technologies d’intelligence artificielle sont déjà intégrées dans des outils comme les anti-virus, les solutions EDR (Endpoint Detection and Response), les passerelles mail ou web, les firewalls, l’IAM, les CASB, les solutions DLP…, soit des équipements qui réagissent automatiquement aux attaques en filtrant le trafic malicieux. La plupart des éditeurs le font y compris en utilisant certaines technologies avancées telles que le deep learning (Google l’a intégré depuis 2015 pour filtrer les spams dans Gmail).\n",
            "2- L’IA intégrée dans les sondes réseaux et autres Intrusion Detection Systems (IDS)\n",
            "De nombreuses sondes intègrent des technologies d’IA, en complément de leur moteur de détection. La plupart de ces systèmes apprennent le comportement « normal » de l’infrastructure et toute déviation est remontée comme un signe d’un risque cyber. Les alertes remontées sont exploitées par des analystes, typiquement au sein d’un SOC, avec un taux de faux positifs non négligeable. L’ajout de ces technologies dans une infrastructure augmenter la charge de travail, tout en permettant de détecter plus d’attaques, ou de les détecter plus tôt. Un des enjeux est donc de mieux intégrer ces outils. Concrètement, la pertinence de ces technologies d’IA est d’autant plus grande qu’elles sont déployées dans les environnements où le trafic est relativement déterministe, tels que dans les environnements industriels.\n",
            "3- L’IA pour détecter les comportements anormaux dans un SOC\n",
            "Dans ce cas d’usage, l’IA est utilisée en parallèle ou en complément de la détection temps réel effectuée par exemple dans un SIEM : le système apprend du comportement standard de l’infrastructure ou des utilisateurs et mesure des écarts par rapport à ce comportement.\n",
            "À la différence des sondes qui sont placées à un endroit précis de l’infrastructure, l’information récoltée par l’outil peut-être extrêmement hétérogène et provenir de multiples sources, ce qui accroit très sensiblement le niveau de difficulté. De fait, ces technologies paraissent aujourd’hui plus pertinentes en complément des outils classiques pour des environnements relativement stables et déterministes.\n",
            "4- L’IA pour l’investigation des alertes et la recherche proactive de compromission (hunting) dans un SOC\n",
            "Les analystes d’un SOC partent typiquement d’une alerte émanant d’un SIEM ou d’un autre outil pour ensuite en déterminer la criticité, l’étendue, l’urgence ainsi que les éléments techniques permettant de stopper les attaques et d’y remédier. Ils accèdent pour cela à un puits de données (data lake) où sont stockés les logs, des métadonnées de trafic ou autres informations. De plus ce puits de données peut être exploité pour rechercher des traces d’autres attaques qui n’auraient pas été détectées en temps réel. Cette activité s’appuie à la fois sur de l’expertise humaine et sur des outils (recherches d’observables, corrélation d’événements, etc.). L’intégration d’IA dans ces outils permet d’assister les experts pour qu’ils accèdent plus rapidement et facilement à la bonne information et pour qu’ils soient guidés dans leurs recherches.\n",
            "5- L’IA appliquée à la réponse sur incident\n",
            "Pour répondre aux incidents de cybersécurité, les équipes CERT ou CSIRT effectuent de nombreuses tâches qui peuvent en partie être automatisées : réinstallation d’anti-virus, vérification de clés de registre, modification de règles dans les firewalls, etc. Les plates-formes de réponse aux incidents (Security Orchestration and Automated Response – SOAR ou Security Incident Response Platform – SIRP) proposent des scénarios de réponse, automatiques ou semi-automatiques, afin de faciliter la sélection, l’exécution et l’enchainement des tâches. Certaines commencent également à intégrer des technologies d’IA afin d’assister plus efficacement les intervenants dans la sélection des actions à effectuer et d’augmenter l’automatisation.\n",
            "6- L’IA appliquée au renseignement sur la menace (Threat Intelligence)\n",
            "Le renseignement sur la menace consiste à collecter (typiquement sur le Web ou DarkWeb), un ensemble d’informations sur la menace et à les rendre opérationnelles : quels groupes d’attaquants sont actifs et pour faire quoi, avec quels modes opératoires, exploitant quelles vulnérabilités, à partir de quels serveurs web compromis de Command & Control… Plutôt que de se battre contre un ennemi invisible, il s’agit d’obtenir des renseignements sur lui pour mieux le contrer. Un des problèmes du renseignement sur la menace réside dans la capacité à fournir des informations pertinentes de manière structurée.\n",
            "7- L’IA appliquée à la gestion des vulnérabilités\n",
            "La gestion des vulnérabilités est devenue un point de tension pour les équipes opérationnelles, du fait de l’augmentation constante du nombre de failles connues, des difficultés à évaluer les risques réels induits et à prioriser et automatiser le déploiement des patchs. En effet, sur les milliers de vulnérabilités publiées tous les ans, seule une fraction est réellement utilisée par les attaquants. De plus, certains systèmes en sont protégés par des défenses périmétriques.\n",
            "Cette complexité incite les fournisseurs d’outils de gestion des vulnérabilités à intégrer des technologies d’IA dans leurs solutions. L’objectif de l’IA appliquée à la gestion des vulnérabilités est d’améliorer la découverte des équipements déployés, le scan des vulnérabilités, la détermination des risques associés en lien avec l’intelligence sur la menace, la priorisation et le déploiement des patchs.\n",
            "8- L’IA appliquée aux tests d’intrusions\n",
            "Dans la même veine, et bien qu’il s’agisse à ce stade plus d’une vision ou de prototypes que de réalité, des travaux émanant de laboratoires universitaires, d’agences gouvernementales, d’entreprises établies ou de start-ups, visent à appliquer l’IA aux tests d’intrusions.\n",
            "Ces tests nécessitent de trouver des vulnérabilités parmi de multiples possibles sur de nombreux systèmes, puis d’exploiter ces vulnérabilités par différentes techniques. L’arbre des choix possibles devient rapidement trop important pour être géré par un humain ou même parcouru automatiquement. Par ailleurs, l’analyse de la pratique des testeurs humains révèle qu’ils ont tendance à privilégier le parcours de l’arbre en profondeur plutôt qu’en largeur. Si technologies d’IA constituent un moyen de compenser les limites et contraintes des dispositifs actuels, plusieurs points d’attention doivent être pris en compte. L’IA ou plutôt le machine learning a surtout fait ses preuves dans la détection de fraudes, un domaine connexe à la cybersécurité. Ses bons résultats s’expliquent par le fait que l’on travaille depuis un certain temps sur des données normées. Aussi, elle ne peut être vue que comme un complément algorithmique aux outils existants.Si l’IA modifie le niveau d’expertise nécessaire à certaines activités de cybersécurité grâce l’automatisation des tâches à faible valeur ajoutée, il n’en reste pas moins que pour le moment l’IA ne diminue pas le besoin global d’expertise humaine. En effet les équipes doivent analyser plus d’évènements et de comportements suspects à partir de remontées qui difficiles à interpréter et qui nécessitent par conséquent des expertises de haut niveau. L’IA connaît également certaines limites morales voire légales car elle peut parfois prendre des décisions discutables d’un point de vue éthique et exploite souvent des données à caractère personnel.\n",
            "Et surtout… Les systèmes de défense à base d’IA sont eux-mêmes vulnérables aux leurres que les attaquants mettent en place pour les contourner.\n",
            "Les attaquants utilisent aussi des technologies d’IA pour augmenter leur potentiel de nuisance à moindre coût : pour sélectionner leurs cibles, optimiser leurs capacités d’intrusion (ex : phishing intelligent), déterminer les meilleures failles à exploiter (ex : scan de pages web intelligent), passer autant que possible sous le radar des systèmes de détection, etc. Par sa capacité à traiter de grands volumes de données, l’IA peut être vue comme un allié au service des défenseurs du cyberespace, en particulier pour détecter des menaces inconnues à condition toutefois d’être en capacité de traiter les faux positifs (et les faux négatifs ?). Mais elle peut aussi être mise à profit par les assaillants et leur permettre de développer des attaques intelligentes capables de s’adapter en temps réel aux réactions défensives.\n",
            "La blockchain, l’IA ou le machine learning seront-ils les réponses que nous attendons tant ?\n",
            "Là encore, il faut faire la part des choses. Ces technologies ne seront jamais des réponses aux questions qu’elles n’adressent pas. Elles permettront vraisemblablement de faire avancer les domaines de recherche, de créer de nouvelles offres, d’offrir une assistance aux parties prenantes, mais auront encore bien des difficultés à sécuriser ce que nous ne maîtrisons pas toujours.\n",
            "\n",
            "\n",
            "Text encrypted successfully.\n",
            "Encrypted text:\n",
            "ts dk poudxbépyxtké : 8 psb e’ybsrd nxthptnsyz\n",
            "\n",
            "\n",
            "thkdvvtrdhpd dk poudxbépyxtké : 8 psb e'ybsrd.\n",
            "24 iytvvdk 2020\n",
            "v’thkdvvtrdhpd sxktqtptdvvd (ts) dbk ndxçyd nsx vs nvynsxk edb bnéptsvtbkdb pwggd yhd sashpéd kxèb nxwqtksuvd à hwkxd bwptéké, ndxgdkkshk ed nxéetxd hwb udbwthb dk sthbt e’o xénwhexd sadp shktptnsktwh.\n",
            "dh gsktèxd ed poudxbépyxtké, vs btgnvd edbpxtnktwh ed vs btkysktwh spkydvvd edb gdhspdb eshb vd poudxdbnspd byqqtk à pwgnxdhexd v’thkéxêk jyd v’theybkxtd nwxkd à v’thkdvvtrdhpd sxktqtptdvvd (ts). byx vd nsntdx, v’ts, sadp bs psnsptké à pwgnxdhexd dk shsvobdx yh pwhkdzkd ewhhé, ndyk pwhkxtuydx à o eékdpkdx edb shwgsvtdb wy edb pwgnwxkdgdhkb thcsutkydvb, xéaévskdyxb e’skksjydb dk sthbt, à xdhqwxpdx vdb wyktvb ed nxwkdpktwh, eékdpktwh, xénwhbd dk xdgéetsktwh : syrgdhksktwh ey ksyz ed eékdpktwh, eékdpktwh sy nvyb kôk edb skksjydb, sgévtwxsktwh ed vs psnsptké e’sesnksktwh syz éawvyktwhb ndxgshdhkdb edb bt.\n",
            "1- v’ts thkérxéd syz éjytndgdhkb dk snnvtpsktwhb ed poudxbépyxtké ed v’thqxsbkxypkyxd\n",
            "edb kdpchwvwrtdb e’thkdvvtrdhpd sxktqtptdvvd bwhk eéià thkérxédb eshb edb wyktvb pwggd vdb shkt-atxyb, vdb bwvyktwhb dex (dhenwthk edkdpktwh she xdbnwhbd), vdb nsbbdxdvvdb gstv wy ldu, vdb qtxdlsvvb, v’tsg, vdb psbu, vdb bwvyktwhb evn…, bwtk edb éjytndgdhkb jyt xésrtbbdhk sykwgsktjydgdhk syz skksjydb dh qtvkxshk vd kxsqtp gsvtptdyz. vs nvynsxk edb éetkdyxb vd qwhk o pwgnxtb dh yktvtbshk pdxksthdb kdpchwvwrtdb sashpédb kdvvdb jyd vd eddn vdsxhthr (rwwrvd v’s thkérxé ednytb 2015 nwyx qtvkxdx vdb bnsgb eshb rgstv).\n",
            "2- v’ts thkérxéd eshb vdb bwhedb xébdsyz dk sykxdb thkxybtwh edkdpktwh bobkdgb (teb)\n",
            "ed hwguxdybdb bwhedb thkèrxdhk edb kdpchwvwrtdb e’ts, dh pwgnvégdhk ed vdyx gwkdyx ed eékdpktwh. vs nvynsxk ed pdb bobkègdb snnxdhhdhk vd pwgnwxkdgdhk « hwxgsv » ed v’thqxsbkxypkyxd dk kwykd eéatsktwh dbk xdgwhkéd pwggd yh btrhd e’yh xtbjyd poudx. vdb svdxkdb xdgwhkédb bwhk dznvwtkédb nsx edb shsvobkdb, kontjydgdhk sy bdth e’yh bwp, sadp yh ksyz ed qsyz nwbtktqb hwh hérvtrdsuvd. v’siwyk ed pdb kdpchwvwrtdb eshb yhd thqxsbkxypkyxd syrgdhkdx vs pcsxrd ed kxsastv, kwyk dh ndxgdkkshk ed eékdpkdx nvyb e’skksjydb, wy ed vdb eékdpkdx nvyb kôk. yh edb dhidyz dbk ewhp ed gtdyz thkérxdx pdb wyktvb. pwhpxèkdgdhk, vs ndxkthdhpd ed pdb kdpchwvwrtdb e’ts dbk e’sykshk nvyb rxshed jy’dvvdb bwhk eénvwoédb eshb vdb dhatxwhhdgdhkb wù vd kxsqtp dbk xdvsktadgdhk eékdxgthtbkd, kdvb jyd eshb vdb dhatxwhhdgdhkb theybkxtdvb.\n",
            "3- v’ts nwyx eékdpkdx vdb pwgnwxkdgdhkb shwxgsyz eshb yh bwp\n",
            "eshb pd psb e’ybsrd, v’ts dbk yktvtbéd dh nsxsvvèvd wy dh pwgnvégdhk ed vs eékdpktwh kdgnb xédv dqqdpkyéd nsx dzdgnvd eshb yh btdg : vd bobkègd snnxdhe ey pwgnwxkdgdhk bkshesxe ed v’thqxsbkxypkyxd wy edb yktvtbskdyxb dk gdbyxd edb épsxkb nsx xsnnwxk à pd pwgnwxkdgdhk.\n",
            "à vs etqqéxdhpd edb bwhedb jyt bwhk nvspédb à yh dhexwtk nxéptb ed v’thqxsbkxypkyxd, v’thqwxgsktwh xépwvkéd nsx v’wyktv ndyk-êkxd dzkxêgdgdhk cékéxwrèhd dk nxwadhtx ed gyvktnvdb bwyxpdb, pd jyt sppxwtk kxèb bdhbtuvdgdhk vd htadsy ed etqqtpyvké. ed qstk, pdb kdpchwvwrtdb nsxstbbdhk syiwyxe’cyt nvyb ndxkthdhkdb dh pwgnvégdhk edb wyktvb pvsbbtjydb nwyx edb dhatxwhhdgdhkb xdvsktadgdhk bksuvdb dk eékdxgthtbkdb.\n",
            "4- v’ts nwyx v’thadbktrsktwh edb svdxkdb dk vs xdpcdxpcd nxwspktad ed pwgnxwgtbbtwh (cyhkthr) eshb yh bwp\n",
            "vdb shsvobkdb e’yh bwp nsxkdhk kontjydgdhk e’yhd svdxkd égshshk e’yh btdg wy e’yh sykxd wyktv nwyx dhbytkd dh eékdxgthdx vs pxtktptké, v’ékdheyd, v’yxrdhpd sthbt jyd vdb évégdhkb kdpchtjydb ndxgdkkshk ed bkwnndx vdb skksjydb dk e’o xdgéetdx. tvb sppèedhk nwyx pdvs à yh nytkb ed ewhhédb (esks vsfd) wù bwhk bkwpféb vdb vwrb, edb géksewhhédb ed kxsqtp wy sykxdb thqwxgsktwhb. ed nvyb pd nytkb ed ewhhédb ndyk êkxd dznvwtké nwyx xdpcdxpcdx edb kxspdb e’sykxdb skksjydb jyt h’syxstdhk nsb éké eékdpkédb dh kdgnb xédv. pdkkd spktatké b’snnytd à vs qwtb byx ed v’dzndxktbd cygsthd dk byx edb wyktvb (xdpcdxpcdb e’wubdxasuvdb, pwxxévsktwh e’éaéhdgdhkb, dkp.). v’thkérxsktwh e’ts eshb pdb wyktvb ndxgdk e’sbbtbkdx vdb dzndxkb nwyx jy’tvb sppèedhk nvyb xsntedgdhk dk qsptvdgdhk à vs uwhhd thqwxgsktwh dk nwyx jy’tvb bwtdhk ryteéb eshb vdyxb xdpcdxpcdb.\n",
            "5- v’ts snnvtjyéd à vs xénwhbd byx thptedhk\n",
            "nwyx xénwhexd syz thptedhkb ed poudxbépyxtké, vdb éjytndb pdxk wy pbtxk dqqdpkydhk ed hwguxdybdb kâpcdb jyt ndyadhk dh nsxktd êkxd sykwgsktbédb : xéthbksvvsktwh e’shkt-atxyb, aéxtqtpsktwh ed pvéb ed xdrtbkxd, gwetqtpsktwh ed xèrvdb eshb vdb qtxdlsvvb, dkp. vdb nvskdb-qwxgdb ed xénwhbd syz thptedhkb (bdpyxtko wxpcdbkxsktwh she sykwgskde xdbnwhbd – bwsx wy bdpyxtko thptedhk xdbnwhbd nvskqwxg – btxn) nxwnwbdhk edb bpéhsxtwb ed xénwhbd, sykwgsktjydb wy bdgt-sykwgsktjydb, sqth ed qsptvtkdx vs bévdpktwh, v’dzépyktwh dk v’dhpcsthdgdhk edb kâpcdb. pdxksthdb pwggdhpdhk érsvdgdhk à thkérxdx edb kdpchwvwrtdb e’ts sqth e’sbbtbkdx nvyb dqqtpspdgdhk vdb thkdxadhshkb eshb vs bévdpktwh edb spktwhb à dqqdpkydx dk e’syrgdhkdx v’sykwgsktbsktwh.\n",
            "6- v’ts snnvtjyéd sy xdhbdtrhdgdhk byx vs gdhspd (kcxdsk thkdvvtrdhpd)\n",
            "vd xdhbdtrhdgdhk byx vs gdhspd pwhbtbkd à pwvvdpkdx (kontjydgdhk byx vd ldu wy esxfldu), yh dhbdguvd e’thqwxgsktwhb byx vs gdhspd dk à vdb xdhexd wnéxsktwhhdvvdb : jydvb rxwyndb e’skksjyshkb bwhk spktqb dk nwyx qstxd jywt, sadp jydvb gwedb wnéxskwtxdb, dznvwtkshk jydvvdb ayvhéxsutvtkéb, à nsxktx ed jydvb bdxadyxb ldu pwgnxwgtb ed pwggshe & pwhkxwv… nvykôk jyd ed bd uskkxd pwhkxd yh dhhdgt thatbtuvd, tv b’srtk e’wukdhtx edb xdhbdtrhdgdhkb byx vyt nwyx gtdyz vd pwhkxdx. yh edb nxwuvègdb ey xdhbdtrhdgdhk byx vs gdhspd xébted eshb vs psnsptké à qwyxhtx edb thqwxgsktwhb ndxkthdhkdb ed gshtèxd bkxypkyxéd.\n",
            "7- v’ts snnvtjyéd à vs rdbktwh edb ayvhéxsutvtkéb\n",
            "vs rdbktwh edb ayvhéxsutvtkéb dbk edadhyd yh nwthk ed kdhbtwh nwyx vdb éjytndb wnéxsktwhhdvvdb, ey qstk ed v’syrgdhksktwh pwhbkshkd ey hwguxd ed qstvvdb pwhhydb, edb etqqtpyvkéb à éasvydx vdb xtbjydb xédvb theytkb dk à nxtwxtbdx dk sykwgsktbdx vd eénvwtdgdhk edb nskpcb. dh dqqdk, byx vdb gtvvtdxb ed ayvhéxsutvtkéb nyuvtédb kwyb vdb shb, bdyvd yhd qxspktwh dbk xédvvdgdhk yktvtbéd nsx vdb skksjyshkb. ed nvyb, pdxksthb bobkègdb dh bwhk nxwkéréb nsx edb eéqdhbdb néxtgékxtjydb.\n",
            "pdkkd pwgnvdztké thptkd vdb qwyxhtbbdyxb e’wyktvb ed rdbktwh edb ayvhéxsutvtkéb à thkérxdx edb kdpchwvwrtdb e’ts eshb vdyxb bwvyktwhb. v’wuidpktq ed v’ts snnvtjyéd à vs rdbktwh edb ayvhéxsutvtkéb dbk e’sgévtwxdx vs eépwyadxkd edb éjytndgdhkb eénvwoéb, vd bpsh edb ayvhéxsutvtkéb, vs eékdxgthsktwh edb xtbjydb sbbwptéb dh vtdh sadp v’thkdvvtrdhpd byx vs gdhspd, vs nxtwxtbsktwh dk vd eénvwtdgdhk edb nskpcb.\n",
            "8- v’ts snnvtjyéd syz kdbkb e’thkxybtwhb\n",
            "eshb vs gêgd adthd, dk utdh jy’tv b’srtbbd à pd bksed nvyb e’yhd atbtwh wy ed nxwkwkondb jyd ed xésvtké, edb kxsasyz égshshk ed vsuwxskwtxdb yhtadxbtkstxdb, e’srdhpdb rwyadxhdgdhksvdb, e’dhkxdnxtbdb éksuvtdb wy ed bksxk-ynb, atbdhk à snnvtjydx v’ts syz kdbkb e’thkxybtwhb.\n",
            "pdb kdbkb hépdbbtkdhk ed kxwyadx edb ayvhéxsutvtkéb nsxgt ed gyvktnvdb nwbbtuvdb byx ed hwguxdyz bobkègdb, nytb e’dznvwtkdx pdb ayvhéxsutvtkéb nsx etqqéxdhkdb kdpchtjydb. v’sxuxd edb pcwtz nwbbtuvdb edatdhk xsntedgdhk kxwn tgnwxkshk nwyx êkxd réxé nsx yh cygsth wy gêgd nsxpwyxy sykwgsktjydgdhk. nsx stvvdyxb, v’shsvobd ed vs nxsktjyd edb kdbkdyxb cygsthb xéaèvd jy’tvb whk kdheshpd à nxtatvértdx vd nsxpwyxb ed v’sxuxd dh nxwqwhedyx nvykôk jy’dh vsxrdyx. bt kdpchwvwrtdb e’ts pwhbktkydhk yh gwodh ed pwgndhbdx vdb vtgtkdb dk pwhkxsthkdb edb etbnwbtktqb spkydvb, nvybtdyxb nwthkb e’skkdhktwh ewtadhk êkxd nxtb dh pwgnkd. v’ts wy nvykôk vd gspcthd vdsxhthr s byxkwyk qstk bdb nxdyadb eshb vs eékdpktwh ed qxsyedb, yh ewgsthd pwhhdzd à vs poudxbépyxtké. bdb uwhb xébyvkskb b’dznvtjydhk nsx vd qstk jyd v’wh kxsastvvd ednytb yh pdxksth kdgnb byx edb ewhhédb hwxgédb. sybbt, dvvd hd ndyk êkxd ayd jyd pwggd yh pwgnvégdhk svrwxtkcgtjyd syz wyktvb dztbkshkb.bt v’ts gwetqtd vd htadsy e’dzndxktbd hépdbbstxd à pdxksthdb spktatkéb ed poudxbépyxtké rxâpd v’sykwgsktbsktwh edb kâpcdb à qstuvd asvdyx siwykéd, tv h’dh xdbkd nsb gwthb jyd nwyx vd gwgdhk v’ts hd etgthyd nsb vd udbwth rvwusv e’dzndxktbd cygsthd. dh dqqdk vdb éjytndb ewtadhk shsvobdx nvyb e’éaèhdgdhkb dk ed pwgnwxkdgdhkb bybndpkb à nsxktx ed xdgwhkédb jyt etqqtptvdb à thkdxnxékdx dk jyt hépdbbtkdhk nsx pwhbéjydhk edb dzndxktbdb ed csyk htadsy. v’ts pwhhsîk érsvdgdhk pdxksthdb vtgtkdb gwxsvdb awtxd vérsvdb psx dvvd ndyk nsxqwtb nxdhexd edb eéptbtwhb etbpyksuvdb e’yh nwthk ed ayd ékctjyd dk dznvwtkd bwyadhk edb ewhhédb à psxspkèxd ndxbwhhdv.\n",
            "dk byxkwyk… vdb bobkègdb ed eéqdhbd à usbd e’ts bwhk dyz-gêgdb ayvhéxsuvdb syz vdyxxdb jyd vdb skksjyshkb gdkkdhk dh nvspd nwyx vdb pwhkwyxhdx.\n",
            "vdb skksjyshkb yktvtbdhk sybbt edb kdpchwvwrtdb e’ts nwyx syrgdhkdx vdyx nwkdhktdv ed hytbshpd à gwthexd pwûk : nwyx bévdpktwhhdx vdyxb ptuvdb, wnktgtbdx vdyxb psnsptkéb e’thkxybtwh (dz : nctbcthr thkdvvtrdhk), eékdxgthdx vdb gdtvvdyxdb qstvvdb à dznvwtkdx (dz : bpsh ed nsrdb ldu thkdvvtrdhk), nsbbdx sykshk jyd nwbbtuvd bwyb vd xsesx edb bobkègdb ed eékdpktwh, dkp. nsx bs psnsptké à kxstkdx ed rxsheb awvygdb ed ewhhédb, v’ts ndyk êkxd ayd pwggd yh svvté sy bdxatpd edb eéqdhbdyxb ey poudxdbnspd, dh nsxktpyvtdx nwyx eékdpkdx edb gdhspdb thpwhhydb à pwhetktwh kwykdqwtb e’êkxd dh psnsptké ed kxstkdx vdb qsyz nwbtktqb (dk vdb qsyz hérsktqb ?). gstb dvvd ndyk sybbt êkxd gtbd à nxwqtk nsx vdb sbbstvvshkb dk vdyx ndxgdkkxd ed eéadvwnndx edb skksjydb thkdvvtrdhkdb psnsuvdb ed b’sesnkdx dh kdgnb xédv syz xéspktwhb eéqdhbtadb.\n",
            "vs uvwpfpcsth, v’ts wy vd gspcthd vdsxhthr bdxwhk-tvb vdb xénwhbdb jyd hwyb skkdhewhb kshk ?\n",
            "và dhpwxd, tv qsyk qstxd vs nsxk edb pcwbdb. pdb kdpchwvwrtdb hd bdxwhk isgstb edb xénwhbdb syz jydbktwhb jy’dvvdb h’sexdbbdhk nsb. dvvdb ndxgdkkxwhk axstbdguvsuvdgdhk ed qstxd sashpdx vdb ewgsthdb ed xdpcdxpcd, ed pxédx ed hwyadvvdb wqqxdb, e’wqqxtx yhd sbbtbkshpd syz nsxktdb nxdhshkdb, gstb syxwhk dhpwxd utdh edb etqqtpyvkéb à bépyxtbdx pd jyd hwyb hd gsîkxtbwhb nsb kwyiwyxb.\n",
            "\n"
          ]
        }
      ]
    },
    {
      "cell_type": "code",
      "source": [],
      "metadata": {
        "id": "jJsmw-Yb4Q_s"
      },
      "execution_count": 76,
      "outputs": []
    },
    {
      "cell_type": "markdown",
      "source": [
        "\n",
        "### ***3) Faire l'analyse fréquentielle du texte chiffré.***\n",
        "\n"
      ],
      "metadata": {
        "id": "1fMHFq5vqQJV"
      }
    },
    {
      "cell_type": "code",
      "metadata": {
        "colab": {
          "base_uri": "https://localhost:8080/"
        },
        "id": "1e31cf49",
        "outputId": "db2687fd-ad1e-41f7-d661-b0a931cda99b"
      },
      "source": [
        "from collections import Counter\n",
        "import string\n",
        "if 'encrypted_csia_text' in locals():\n",
        "    encrypted_text_lower = encrypted_csia_text.lower()\n",
        "    letter_counts = Counter(char for char in encrypted_text_lower if char in string.ascii_lowercase)\n",
        "\n",
        "    total_letters = sum(letter_counts.values())\n",
        "\n",
        "    letter_frequencies = {char: count / total_letters for char, count in letter_counts.items()}\n",
        "    sorted_frequencies = dict(sorted(letter_frequencies.items(), key=lambda item: item[1], reverse=True))\n",
        "\n",
        "    print(\"Frequency analysis of the encrypted text:\")\n",
        "    for char, frequency in sorted_frequencies.items():\n",
        "        print(f\"'{char}': {frequency:.4f}\")\n",
        "\n",
        "else:\n",
        "    print(\"Error: Encrypted text not found. Please run the previous cell to encrypt the text first.\")"
      ],
      "execution_count": 77,
      "outputs": [
        {
          "output_type": "stream",
          "name": "stdout",
          "text": [
            "Frequency analysis of the encrypted text:\n",
            "'d': 0.1520\n",
            "'b': 0.0952\n",
            "'k': 0.0900\n",
            "'t': 0.0764\n",
            "'h': 0.0759\n",
            "'s': 0.0689\n",
            "'x': 0.0654\n",
            "'v': 0.0582\n",
            "'y': 0.0542\n",
            "'w': 0.0510\n",
            "'e': 0.0429\n",
            "'p': 0.0380\n",
            "'n': 0.0342\n",
            "'g': 0.0272\n",
            "'q': 0.0122\n",
            "'r': 0.0108\n",
            "'j': 0.0097\n",
            "'a': 0.0095\n",
            "'u': 0.0086\n",
            "'c': 0.0064\n",
            "'z': 0.0063\n",
            "'o': 0.0045\n",
            "'i': 0.0012\n",
            "'l': 0.0009\n",
            "'f': 0.0005\n"
          ]
        }
      ]
    },
    {
      "cell_type": "markdown",
      "source": [
        "### ***4) Retrouver le texte clair à partir de cette analyse.***"
      ],
      "metadata": {
        "id": "VM2VKzXP739T"
      }
    },
    {
      "cell_type": "code",
      "source": [
        "def decrypt_text_with_substitution(encrypted_text, substitution_dict):\n",
        "    decrypted_text = \"\"\n",
        "    for char in encrypted_text:\n",
        "        # Apply substitution if the lowercase character is in the dictionary\n",
        "        if char.lower() in substitution_dict:\n",
        "            # Maintain original case if the original character was uppercase\n",
        "            if char.isupper():\n",
        "                decrypted_text += substitution_dict[char.lower()].upper()\n",
        "            else:\n",
        "                decrypted_text += substitution_dict[char.lower()]\n",
        "        else:\n",
        "            decrypted_text += char # Keep characters not in the dictionary as they are\n",
        "    return decrypted_text\n",
        "initial_substitutions = {\n",
        "    's': 'a', 'u': 'b', 'p': 'c', 'e': 'd', 'd': 'e', 'q': 'f', 'r': 'g', 'c': 'h', 't': 'i', 'i': 'j', 'f': 'k', 'v': 'l', 'g': 'm', 'h': 'n', 'w': 'o', 'n': 'p', 'j': 'q', 'x': 'r', 'b': 's', 'k': 't', 'y': 'u', 'a': 'v', 'l': 'w', 'z': 'x', 'o': 'y', 'm': 'z'}\n",
        "if 'encrypted_csia_text' in locals():\n",
        "    partially_decrypted_text = decrypt_text_with_substitution(encrypted_csia_text, initial_substitutions)\n",
        "    print(\"Partially decrypted text:\")\n",
        "    print(partially_decrypted_text)\n",
        "else:\n",
        "    print(\"Error: Encrypted text not found. Please run the encryption cell first.\")"
      ],
      "metadata": {
        "colab": {
          "base_uri": "https://localhost:8080/"
        },
        "id": "bKjRy9Dt8YzC",
        "outputId": "a4c25022-3b00-41be-bc01-beb81380df7f"
      },
      "execution_count": 78,
      "outputs": [
        {
          "output_type": "stream",
          "name": "stdout",
          "text": [
            "Partially decrypted text:\n",
            "ia et cybersécurité : 8 cas d’usage principaux\n",
            "\n",
            "\n",
            "intelligence et cybersécurité : 8 cas d'usage.\n",
            "24 juillet 2020\n",
            "l’intelligence artificielle (ia) est perçue par la plupart des spécialistes comme une avancée très profitable à notre société, permettant de prédire nos besoins et ainsi d’y répondre avec anticipation.\n",
            "en matière de cybersécurité, la simple description de la situation actuelle des menaces dans le cyberespace suffit à comprendre l’intérêt que l’industrie porte à l’intelligence artificielle (ia). sur le papier, l’ia, avec sa capacité à comprendre et analyser un contexte donné, peut contribuer à y détecter des anomalies ou des comportements inhabituels, révélateurs d’attaques et ainsi, à renforcer les outils de protection, détection, réponse et remédiation : augmentation du taux de détection, détection au plus tôt des attaques, amélioration de la capacité d’adaptation aux évolutions permanentes des si.\n",
            "1- l’ia intégrée aux équipements et applications de cybersécurité de l’infrastructure\n",
            "des technologies d’intelligence artificielle sont déjà intégrées dans des outils comme les anti-virus, les solutions edr (endpoint detection and response), les passerelles mail ou web, les firewalls, l’iam, les casb, les solutions dlp…, soit des équipements qui réagissent automatiquement aux attaques en filtrant le trafic malicieux. la plupart des éditeurs le font y compris en utilisant certaines technologies avancées telles que le deep learning (google l’a intégré depuis 2015 pour filtrer les spams dans gmail).\n",
            "2- l’ia intégrée dans les sondes réseaux et autres intrusion detection systems (ids)\n",
            "de nombreuses sondes intègrent des technologies d’ia, en complément de leur moteur de détection. la plupart de ces systèmes apprennent le comportement « normal » de l’infrastructure et toute déviation est remontée comme un signe d’un risque cyber. les alertes remontées sont exploitées par des analystes, typiquement au sein d’un soc, avec un taux de faux positifs non négligeable. l’ajout de ces technologies dans une infrastructure augmenter la charge de travail, tout en permettant de détecter plus d’attaques, ou de les détecter plus tôt. un des enjeux est donc de mieux intégrer ces outils. concrètement, la pertinence de ces technologies d’ia est d’autant plus grande qu’elles sont déployées dans les environnements où le trafic est relativement déterministe, tels que dans les environnements industriels.\n",
            "3- l’ia pour détecter les comportements anormaux dans un soc\n",
            "dans ce cas d’usage, l’ia est utilisée en parallèle ou en complément de la détection temps réel effectuée par exemple dans un siem : le système apprend du comportement standard de l’infrastructure ou des utilisateurs et mesure des écarts par rapport à ce comportement.\n",
            "à la différence des sondes qui sont placées à un endroit précis de l’infrastructure, l’information récoltée par l’outil peut-être extrêmement hétérogène et provenir de multiples sources, ce qui accroit très sensiblement le niveau de difficulté. de fait, ces technologies paraissent aujourd’hui plus pertinentes en complément des outils classiques pour des environnements relativement stables et déterministes.\n",
            "4- l’ia pour l’investigation des alertes et la recherche proactive de compromission (hunting) dans un soc\n",
            "les analystes d’un soc partent typiquement d’une alerte émanant d’un siem ou d’un autre outil pour ensuite en déterminer la criticité, l’étendue, l’urgence ainsi que les éléments techniques permettant de stopper les attaques et d’y remédier. ils accèdent pour cela à un puits de données (data lake) où sont stockés les logs, des métadonnées de trafic ou autres informations. de plus ce puits de données peut être exploité pour rechercher des traces d’autres attaques qui n’auraient pas été détectées en temps réel. cette activité s’appuie à la fois sur de l’expertise humaine et sur des outils (recherches d’observables, corrélation d’événements, etc.). l’intégration d’ia dans ces outils permet d’assister les experts pour qu’ils accèdent plus rapidement et facilement à la bonne information et pour qu’ils soient guidés dans leurs recherches.\n",
            "5- l’ia appliquée à la réponse sur incident\n",
            "pour répondre aux incidents de cybersécurité, les équipes cert ou csirt effectuent de nombreuses tâches qui peuvent en partie être automatisées : réinstallation d’anti-virus, vérification de clés de registre, modification de règles dans les firewalls, etc. les plates-formes de réponse aux incidents (security orchestration and automated response – soar ou security incident response platform – sirp) proposent des scénarios de réponse, automatiques ou semi-automatiques, afin de faciliter la sélection, l’exécution et l’enchainement des tâches. certaines commencent également à intégrer des technologies d’ia afin d’assister plus efficacement les intervenants dans la sélection des actions à effectuer et d’augmenter l’automatisation.\n",
            "6- l’ia appliquée au renseignement sur la menace (threat intelligence)\n",
            "le renseignement sur la menace consiste à collecter (typiquement sur le web ou darkweb), un ensemble d’informations sur la menace et à les rendre opérationnelles : quels groupes d’attaquants sont actifs et pour faire quoi, avec quels modes opératoires, exploitant quelles vulnérabilités, à partir de quels serveurs web compromis de command & control… plutôt que de se battre contre un ennemi invisible, il s’agit d’obtenir des renseignements sur lui pour mieux le contrer. un des problèmes du renseignement sur la menace réside dans la capacité à fournir des informations pertinentes de manière structurée.\n",
            "7- l’ia appliquée à la gestion des vulnérabilités\n",
            "la gestion des vulnérabilités est devenue un point de tension pour les équipes opérationnelles, du fait de l’augmentation constante du nombre de failles connues, des difficultés à évaluer les risques réels induits et à prioriser et automatiser le déploiement des patchs. en effet, sur les milliers de vulnérabilités publiées tous les ans, seule une fraction est réellement utilisée par les attaquants. de plus, certains systèmes en sont protégés par des défenses périmétriques.\n",
            "cette complexité incite les fournisseurs d’outils de gestion des vulnérabilités à intégrer des technologies d’ia dans leurs solutions. l’objectif de l’ia appliquée à la gestion des vulnérabilités est d’améliorer la découverte des équipements déployés, le scan des vulnérabilités, la détermination des risques associés en lien avec l’intelligence sur la menace, la priorisation et le déploiement des patchs.\n",
            "8- l’ia appliquée aux tests d’intrusions\n",
            "dans la même veine, et bien qu’il s’agisse à ce stade plus d’une vision ou de prototypes que de réalité, des travaux émanant de laboratoires universitaires, d’agences gouvernementales, d’entreprises établies ou de start-ups, visent à appliquer l’ia aux tests d’intrusions.\n",
            "ces tests nécessitent de trouver des vulnérabilités parmi de multiples possibles sur de nombreux systèmes, puis d’exploiter ces vulnérabilités par différentes techniques. l’arbre des choix possibles devient rapidement trop important pour être géré par un humain ou même parcouru automatiquement. par ailleurs, l’analyse de la pratique des testeurs humains révèle qu’ils ont tendance à privilégier le parcours de l’arbre en profondeur plutôt qu’en largeur. si technologies d’ia constituent un moyen de compenser les limites et contraintes des dispositifs actuels, plusieurs points d’attention doivent être pris en compte. l’ia ou plutôt le machine learning a surtout fait ses preuves dans la détection de fraudes, un domaine connexe à la cybersécurité. ses bons résultats s’expliquent par le fait que l’on travaille depuis un certain temps sur des données normées. aussi, elle ne peut être vue que comme un complément algorithmique aux outils existants.si l’ia modifie le niveau d’expertise nécessaire à certaines activités de cybersécurité grâce l’automatisation des tâches à faible valeur ajoutée, il n’en reste pas moins que pour le moment l’ia ne diminue pas le besoin global d’expertise humaine. en effet les équipes doivent analyser plus d’évènements et de comportements suspects à partir de remontées qui difficiles à interpréter et qui nécessitent par conséquent des expertises de haut niveau. l’ia connaît également certaines limites morales voire légales car elle peut parfois prendre des décisions discutables d’un point de vue éthique et exploite souvent des données à caractère personnel.\n",
            "et surtout… les systèmes de défense à base d’ia sont eux-mêmes vulnérables aux leurres que les attaquants mettent en place pour les contourner.\n",
            "les attaquants utilisent aussi des technologies d’ia pour augmenter leur potentiel de nuisance à moindre coût : pour sélectionner leurs cibles, optimiser leurs capacités d’intrusion (ex : phishing intelligent), déterminer les meilleures failles à exploiter (ex : scan de pages web intelligent), passer autant que possible sous le radar des systèmes de détection, etc. par sa capacité à traiter de grands volumes de données, l’ia peut être vue comme un allié au service des défenseurs du cyberespace, en particulier pour détecter des menaces inconnues à condition toutefois d’être en capacité de traiter les faux positifs (et les faux négatifs ?). mais elle peut aussi être mise à profit par les assaillants et leur permettre de développer des attaques intelligentes capables de s’adapter en temps réel aux réactions défensives.\n",
            "la blockchain, l’ia ou le machine learning seront-ils les réponses que nous attendons tant ?\n",
            "là encore, il faut faire la part des choses. ces technologies ne seront jamais des réponses aux questions qu’elles n’adressent pas. elles permettront vraisemblablement de faire avancer les domaines de recherche, de créer de nouvelles offres, d’offrir une assistance aux parties prenantes, mais auront encore bien des difficultés à sécuriser ce que nous ne maîtrisons pas toujours.\n",
            "\n"
          ]
        }
      ]
    }
  ]
}