{
  "nbformat": 4,
  "nbformat_minor": 0,
  "metadata": {
    "colab": {
      "provenance": [],
      "authorship_tag": "ABX9TyNAyEcGlccyD8LDXo3B5ymG",
      "include_colab_link": true
    },
    "kernelspec": {
      "name": "python3",
      "display_name": "Python 3"
    },
    "language_info": {
      "name": "python"
    }
  },
  "cells": [
    {
      "cell_type": "markdown",
      "metadata": {
        "id": "view-in-github",
        "colab_type": "text"
      },
      "source": [
        "<a href=\"https://colab.research.google.com/github/desbaa32/Master2BD_tp_pro/blob/master/Devoir_1_Securite_Cryptanalyse.ipynb\" target=\"_parent\"><img src=\"https://colab.research.google.com/assets/colab-badge.svg\" alt=\"Open In Colab\"/></a>"
      ]
    },
    {
      "cell_type": "markdown",
      "source": [
        "## **Devoir CRYPTANALYSE**"
      ],
      "metadata": {
        "id": "IINND8VqSlm0"
      }
    },
    {
      "cell_type": "markdown",
      "source": [
        "#### 1) A partir de votre nom et prénom **déterminer une permutation de l'alphabet avec la règle du tableau 3x9** expliquée au cours"
      ],
      "metadata": {
        "id": "tkJ39-TMS-aL"
      }
    },
    {
      "cell_type": "code",
      "source": [
        "\n",
        "prenomNom=\"serignebassiroudabo\"\n",
        "prenomNom=list(prenomNom)\n",
        "print(prenomNom)\n"
      ],
      "metadata": {
        "colab": {
          "base_uri": "https://localhost:8080/"
        },
        "id": "_ijYh-OFS3Go",
        "outputId": "30b8c1ad-a3ee-4fee-e849-0121e23403d0"
      },
      "execution_count": null,
      "outputs": [
        {
          "output_type": "stream",
          "name": "stdout",
          "text": [
            "['s', 'e', 'r', 'i', 'g', 'n', 'e', 'b', 'a', 's', 's', 'i', 'r', 'o', 'u', 'd', 'a', 'b', 'o']\n"
          ]
        }
      ]
    },
    {
      "cell_type": "code",
      "source": [
        " #suppression occurrence\n",
        "def del_occ(l ,occurrence)\n",
        "  for i in range(len(prenomNom))\n",
        "    if prenomNom.count(occurrence)>1:\n",
        "      prenomNom.remove(occurrence)\n",
        "  return prenomNom\n",
        "prenomNom_=del_occ(prenomNom,'a')\n",
        "print(prenomNom_)"
      ],
      "metadata": {
        "id": "tiyTB2A0XLlf"
      },
      "execution_count": null,
      "outputs": []
    },
    {
      "cell_type": "markdown",
      "source": [
        "\n",
        "2) Chiffrer le texte attaché à l'aide de cette permutation.\n",
        "\n",
        "3) Faire l'analyse fréquentielle du texte chiffré.\n",
        "\n",
        "4) Retrouver le texte clair à partir de cette analyse."
      ],
      "metadata": {
        "id": "x1xT46-ES9ON"
      }
    }
  ]
}