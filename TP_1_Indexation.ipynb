{
  "nbformat": 4,
  "nbformat_minor": 0,
  "metadata": {
    "colab": {
      "provenance": [],
      "authorship_tag": "ABX9TyNxP/I/We4YfSOCrzYX3GMU",
      "include_colab_link": true
    },
    "kernelspec": {
      "name": "python3",
      "display_name": "Python 3"
    },
    "language_info": {
      "name": "python"
    }
  },
  "cells": [
    {
      "cell_type": "markdown",
      "metadata": {
        "id": "view-in-github",
        "colab_type": "text"
      },
      "source": [
        "<a href=\"https://colab.research.google.com/github/desbaa32/Master2BD_tp_pro/blob/master/TP_1_Indexation.ipynb\" target=\"_parent\"><img src=\"https://colab.research.google.com/assets/colab-badge.svg\" alt=\"Open In Colab\"/></a>"
      ]
    },
    {
      "cell_type": "markdown",
      "source": [
        "### Creation et MAnipulation donnees  "
      ],
      "metadata": {
        "id": "j6V1n7xzS072"
      }
    },
    {
      "cell_type": "markdown",
      "source": [
        "#### Structure CSV"
      ],
      "metadata": {
        "id": "1bIDjf92Zbh0"
      }
    },
    {
      "cell_type": "code",
      "execution_count": null,
      "metadata": {
        "colab": {
          "base_uri": "https://localhost:8080/"
        },
        "id": "rTiToUt5Sb1f",
        "outputId": "1d004093-6d66-4224-e55c-068683fee7fb"
      },
      "outputs": [
        {
          "output_type": "stream",
          "name": "stdout",
          "text": [
            "{'ID': [1, 2, 3, 4], 'Nom': ['Alice', 'Bob', 'Charlie', 'Davide'], 'Age': [25, 30, 22, 35], 'Departement': ['RH', 'Finance', 'Informatique', 'Marketing']}\n"
          ]
        }
      ],
      "source": [
        "emp_dict={\n",
        "    \"ID\": [1, 2, 3, 4],\n",
        "    \"Nom\": [\"Alice\", \"Bob\", \"Charlie\",\"Davide\"],\n",
        "    \"Age\":[25,30,22,35],\n",
        "    \"Departement\": [\"RH\",\"Finance\",\"Informatique\",\"Marketing\"]\n",
        "}\n",
        "print(emp_dict)\n"
      ]
    },
    {
      "cell_type": "code",
      "source": [
        "import pandas as pd\n",
        "df=pd.DataFrame(emp_dict)\n",
        "print(df)"
      ],
      "metadata": {
        "colab": {
          "base_uri": "https://localhost:8080/"
        },
        "id": "bQImaSzGWxSX",
        "outputId": "492a11ba-811c-40d7-ea2f-b92bcc39e730"
      },
      "execution_count": null,
      "outputs": [
        {
          "output_type": "stream",
          "name": "stdout",
          "text": [
            "   ID      Nom  Age   Departement\n",
            "0   1    Alice   25            RH\n",
            "1   2      Bob   30       Finance\n",
            "2   3  Charlie   22  Informatique\n",
            "3   4   Davide   35     Marketing\n"
          ]
        }
      ]
    },
    {
      "cell_type": "code",
      "source": [
        "df.loc[len(df)] = {\"ID\": 5, \"Nom\": \"Emma\", \"Age\": 28, \"Departement\": \"Communication\"}\n",
        "print(df)"
      ],
      "metadata": {
        "colab": {
          "base_uri": "https://localhost:8080/"
        },
        "id": "Oo0WhPGkYh-T",
        "outputId": "2f1ae172-c492-4950-8e4c-f5bc810d5099"
      },
      "execution_count": null,
      "outputs": [
        {
          "output_type": "stream",
          "name": "stdout",
          "text": [
            "   ID      Nom  Age    Departement\n",
            "0   1    Alice   25             RH\n",
            "1   2      Bob   30        Finance\n",
            "2   3  Charlie   22   Informatique\n",
            "3   4   Davide   35      Marketing\n",
            "4   5     Emma   28  Communication\n"
          ]
        }
      ]
    },
    {
      "cell_type": "code",
      "source": [
        "df.to_csv(\"employe_data.csv\",index=False)"
      ],
      "metadata": {
        "id": "X8zigZtiZEK9"
      },
      "execution_count": null,
      "outputs": []
    },
    {
      "cell_type": "markdown",
      "source": [
        "#### semi-Structure Json"
      ],
      "metadata": {
        "id": "iHDq4MulZrOj"
      }
    },
    {
      "cell_type": "code",
      "source": [
        "products_dict={\n",
        "    \"ID\": [101, 102, 103],\n",
        "    \"Nom\": [\"Ordinateur\", \"Smartphone\", \"Casque\"],\n",
        "    \"Prix\":[1200,800,150,],\n",
        "    \"Stock\": [\"10\",\"25\",\"50\"]\n",
        "}\n",
        "print(products_dict)\n"
      ],
      "metadata": {
        "colab": {
          "base_uri": "https://localhost:8080/"
        },
        "id": "xdudl8TzZq4K",
        "outputId": "21448e9e-30bd-4e82-934d-faa25fb2cf22"
      },
      "execution_count": null,
      "outputs": [
        {
          "output_type": "stream",
          "name": "stdout",
          "text": [
            "{'ID': [101, 102, 103], 'Nom': ['Ordinateur', 'Smartphone', 'Casque'], 'Prix': [1200, 800, 150], 'Stock': ['10', '25', '50']}\n"
          ]
        }
      ]
    },
    {
      "cell_type": "code",
      "source": [
        "df2=pd.DataFrame(products_dict)\n",
        "print(df2)"
      ],
      "metadata": {
        "colab": {
          "base_uri": "https://localhost:8080/"
        },
        "id": "6VG3QaKWaa2L",
        "outputId": "ee01f1c6-adb3-4c5b-d975-31d9a47198c2"
      },
      "execution_count": null,
      "outputs": [
        {
          "output_type": "stream",
          "name": "stdout",
          "text": [
            "    ID         Nom  Prix Stock\n",
            "0  101  Ordinateur  1200    10\n",
            "1  102  Smartphone   800    25\n",
            "2  103      Casque   150    50\n"
          ]
        }
      ]
    },
    {
      "cell_type": "code",
      "source": [
        "df2.to_json(\"products_data.json\",orient=\"records\")"
      ],
      "metadata": {
        "id": "z47bBKFsan7E"
      },
      "execution_count": null,
      "outputs": []
    },
    {
      "cell_type": "code",
      "source": [
        "df2_=pd.read_json(\"products_data.json\")\n",
        "print(df2_)"
      ],
      "metadata": {
        "colab": {
          "base_uri": "https://localhost:8080/"
        },
        "id": "GDvmuLoCavv9",
        "outputId": "7156ec5e-2e52-4c09-ef5b-040c71291465"
      },
      "execution_count": null,
      "outputs": [
        {
          "output_type": "stream",
          "name": "stdout",
          "text": [
            "    ID         Nom  Prix  Stock\n",
            "0  101  Ordinateur  1200     10\n",
            "1  102  Smartphone   800     25\n",
            "2  103      Casque   150     50\n"
          ]
        }
      ]
    },
    {
      "cell_type": "code",
      "source": [
        "df2_.loc[len(df2_)]={\"ID\":104,\"Nom\":\"Tablette\",\"Prix\":600,\"Stock\":30}\n",
        "print(df2_)"
      ],
      "metadata": {
        "colab": {
          "base_uri": "https://localhost:8080/"
        },
        "id": "8SNpieTtbRmT",
        "outputId": "41346347-91e9-4bf5-ee19-bf80c4a54167"
      },
      "execution_count": null,
      "outputs": [
        {
          "output_type": "stream",
          "name": "stdout",
          "text": [
            "    ID         Nom  Prix  Stock\n",
            "0  101  Ordinateur  1200     10\n",
            "1  102  Smartphone   800     25\n",
            "2  103      Casque   150     50\n",
            "3  104    Tablette   600     30\n"
          ]
        }
      ]
    },
    {
      "cell_type": "code",
      "source": [
        "df2_.to_json(\"products_data2.json\",orient=\"records\")"
      ],
      "metadata": {
        "id": "7cHlvZPJcARN"
      },
      "execution_count": null,
      "outputs": []
    },
    {
      "cell_type": "code",
      "source": [],
      "metadata": {
        "id": "c6Xy__iNhH81"
      },
      "execution_count": null,
      "outputs": []
    },
    {
      "cell_type": "code",
      "source": [
        "products_dict={\n",
        "    \"ID\": [101, 102, 103],\n",
        "    \"Nom\":[\"Ordinateur\": {\n",
        "        \"ID_ord\": 1,\n",
        "        \"Nom\": \"itel\",\n",
        "        \"Prix\": 1200,\n",
        "        \"Stock\": 10,},\n",
        "          \"Smartphone\": {\n",
        "        \"ID_smart\": 2,\n",
        "        \"Nom\": \"Samsung\",\n",
        "        \"Prix\": 800,\n",
        "        \"Stock\": 25,},\n",
        "          \"Casque\": {\n",
        "        \"ID_cas\": 3,\n",
        "        \"Nom\": \"Sony\",\n",
        "        \"Prix\": 150,\n",
        "        \"Stock\": 50,},\n",
        "           \"tablette\"\n",
        "\n",
        "    ]\n",
        "\n",
        "    \"Nom\": [\"Ordinateur\":{\n",
        "        \"ID_ord\": 1,\n",
        "        \"Nom\": \"itel\",\n",
        "        \"Prix\": 1200,\n",
        "        \"Stock\": 10,},\n",
        "            , \"Smartphone\",\n",
        "            \"Casque\"],\n",
        "\n",
        "}\n",
        "print(products_dict)\n"
      ],
      "metadata": {
        "id": "DQpJ6aE-gRsg"
      },
      "execution_count": null,
      "outputs": []
    }
  ]
}