{
  "nbformat": 4,
  "nbformat_minor": 0,
  "metadata": {
    "colab": {
      "provenance": [],
      "authorship_tag": "ABX9TyORwPZ2+E7rqUQxmdNqJhBD",
      "include_colab_link": true
    },
    "kernelspec": {
      "name": "ir",
      "display_name": "R"
    },
    "language_info": {
      "name": "R"
    }
  },
  "cells": [
    {
      "cell_type": "markdown",
      "metadata": {
        "id": "view-in-github",
        "colab_type": "text"
      },
      "source": [
        "<a href=\"https://colab.research.google.com/github/desbaa32/Master2BD_tp_pro/blob/master/Tp1_Stat_ModelesFormelsBigData.ipynb\" target=\"_parent\"><img src=\"https://colab.research.google.com/assets/colab-badge.svg\" alt=\"Open In Colab\"/></a>"
      ]
    },
    {
      "cell_type": "markdown",
      "source": [
        "# **TP1 - Statistique descriptive unidimensionnelle**"
      ],
      "metadata": {
        "id": "nj8hYcbTIPcS"
      }
    },
    {
      "cell_type": "markdown",
      "source": [
        "  *  serie statistique Age 48 salarie:*\n",
        "    \n",
        "    43 29 57 45 50 29 37 59 46 31 46 24 33 38 49 31  \n",
        "    62 60 52 38 38 26 41 52 60 49 52 41 38 26 37 59  \n",
        "    57 41 29 33 33 43 46 57 46 33 46 49 57 57 46 43"
      ],
      "metadata": {
        "id": "06QTb0tzINNo"
      }
    },
    {
      "cell_type": "code",
      "source": [
        "serie_ages<-c(43, 29, 57, 45, 50, 29, 37, 59 ,46, 31 ,46 ,24 ,33 ,38 ,49 ,31\n",
        "            ,62 ,60 ,52 ,38 ,38 ,26 ,41, 52 ,60 ,49 ,52, 41 ,38 ,26 ,37 ,59,\n",
        "            57,41 ,29 ,33, 33 ,43, 46, 57 ,46, 33 ,46, 49, 57 ,57, 46 ,43)\n",
        "print(serie_ages)\n",
        "table_ages<-table(serie_ages)\n",
        "print(table_ages)"
      ],
      "metadata": {
        "colab": {
          "base_uri": "https://localhost:8080/"
        },
        "id": "wVmUc7sHOz9H",
        "outputId": "23c1cc8d-d535-4908-9128-0e5523f947b6"
      },
      "execution_count": 49,
      "outputs": [
        {
          "output_type": "stream",
          "name": "stdout",
          "text": [
            " [1] 43 29 57 45 50 29 37 59 46 31 46 24 33 38 49 31 62 60 52 38 38 26 41 52 60\n",
            "[26] 49 52 41 38 26 37 59 57 41 29 33 33 43 46 57 46 33 46 49 57 57 46 43\n",
            "serie_ages\n",
            "24 26 29 31 33 37 38 41 43 45 46 49 50 52 57 59 60 62 \n",
            " 1  2  3  2  4  2  4  3  3  1  6  3  1  3  5  2  2  1 \n"
          ]
        }
      ]
    },
    {
      "cell_type": "markdown",
      "source": [
        "## **1. Effectifs, effectifs cumulés, fréquences et fréquences cumulées**"
      ],
      "metadata": {
        "id": "woQ5fxPPJu7u"
      }
    },
    {
      "cell_type": "code",
      "source": [
        "### EFFECTIS\n",
        "df_ages <- as.data.frame(table_ages)\n",
        "names(df_ages) <- c(\"Age_xi\", \"Effectif_ni\")\n",
        "### EFFECTIFS CUMULES\n",
        "df_ages$EffectifCumule_Ni <- cumsum(df_ages$Effectif_ni)\n",
        "#print(df_ages)"
      ],
      "metadata": {
        "id": "_XsJMkrlS04A"
      },
      "execution_count": 50,
      "outputs": []
    },
    {
      "cell_type": "code",
      "source": [
        "### FREQUENCES\n",
        "df_ages$Frequence_fi <- round(df_ages$Effectif_ni / length(serie_ages) * 100, 2)\n",
        "### FREQUENCES CUMULEES\n",
        "df_ages$FrequenceCumu_Fi <- round(cumsum(df_ages$Frequence_fi), 2)\n",
        "\n",
        "#Affichage\n",
        "print(df_ages)"
      ],
      "metadata": {
        "colab": {
          "base_uri": "https://localhost:8080/"
        },
        "id": "iHoYeAB8JB9v",
        "outputId": "0ad91e7e-7ab2-48cf-deca-ae09809affec"
      },
      "execution_count": 51,
      "outputs": [
        {
          "output_type": "stream",
          "name": "stdout",
          "text": [
            "   Age_xi Effectif_ni EffectifCumule_Ni Frequence_fi FrequenceCumu_Fi\n",
            "1      24           1                 1         2.08             2.08\n",
            "2      26           2                 3         4.17             6.25\n",
            "3      29           3                 6         6.25            12.50\n",
            "4      31           2                 8         4.17            16.67\n",
            "5      33           4                12         8.33            25.00\n",
            "6      37           2                14         4.17            29.17\n",
            "7      38           4                18         8.33            37.50\n",
            "8      41           3                21         6.25            43.75\n",
            "9      43           3                24         6.25            50.00\n",
            "10     45           1                25         2.08            52.08\n",
            "11     46           6                31        12.50            64.58\n",
            "12     49           3                34         6.25            70.83\n",
            "13     50           1                35         2.08            72.91\n",
            "14     52           3                38         6.25            79.16\n",
            "15     57           5                43        10.42            89.58\n",
            "16     59           2                45         4.17            93.75\n",
            "17     60           2                47         4.17            97.92\n",
            "18     62           1                48         2.08           100.00\n"
          ]
        }
      ]
    },
    {
      "cell_type": "markdown",
      "source": [
        "## **2.Représentations graphique**"
      ],
      "metadata": {
        "id": "uWso0b6VVU1S"
      }
    },
    {
      "cell_type": "code",
      "source": [
        "# Diagramme en bâtons\n",
        "barplot(table_ages,\n",
        "        main = \"Distribution des âges - Diagramme en bâtons\",\n",
        "        xlab = \"Âge\",\n",
        "        ylab = \"Effectif_ni\",\n",
        "        col = \"steelblue\")\n",
        "# Diagramme  cumululatifs des effectifs\n",
        "plot(df_ages$Age_xi, df_ages$EffectifCumule_Ni,\n",
        "     type = \"s\",\n",
        "     main = \"Diagramme cumulatif des effectifs\",\n",
        "     xlab = \"Âge\",\n",
        "     ylab = \"Effectif cumulé\",\n",
        "     col = \"blue\")\n",
        "# Fonction de répartition empirique(cumululatifs des effectifs _frequences)\n",
        "plot(ecdf(serie_ages),\n",
        "     main = \"Fonction de répartition empirique\",\n",
        "     xlab = \"Âge\",\n",
        "     ylab = \"Fréquence cumulée\")"
      ],
      "metadata": {
        "colab": {
          "base_uri": "https://localhost:8080/",
          "height": 0
        },
        "id": "MW-uCNd8W6Pr",
        "outputId": "68ca78c0-7423-42c6-cc80-b4cd37050bcc"
      },
      "execution_count": 52,
      "outputs": [
        {
          "output_type": "display_data",
          "data": {
            "text/plain": [
              "Plot with title “Distribution des âges - Diagramme en bâtons”"
            ],
            "image/png": "[encoded data removed]"
          },
          "metadata": {
            "image/png": {
              "width": 420,
              "height": 420
            }
          }
        },
        {
          "output_type": "display_data",
          "data": {
            "text/plain": [
              "Plot with title “Diagramme cumulatif des effectifs”"
            ],
            "image/png": "[encoded data removed]"
          },
          "metadata": {
            "image/png": {
              "width": 420,
              "height": 420
            }
          }
        },
        {
          "output_type": "display_data",
          "data": {
            "text/plain": [
              "Plot with title “Fonction de répartition empirique”"
            ],
            "image/png": "[encoded data removed]"
          },
          "metadata": {
            "image/png": {
              "width": 420,
              "height": 420
            }
          }
        }
      ]
    },
    {
      "cell_type": "markdown",
      "source": [
        "## 3.**La médiane (quantile d’ordre 1/2) et les quartiles (quantile d’ordre1/4, 3/4)**"
      ],
      "metadata": {
        "id": "RNYYyykmZ9Q3"
      }
    },
    {
      "cell_type": "code",
      "source": [
        "# Triage\n",
        "serie_ages_tries <- sort(serie_ages)\n",
        "print(serie_ages_tries)\n",
        "# Taille de l'échantillon:\n",
        "n <- length(serie_ages)"
      ],
      "metadata": {
        "colab": {
          "base_uri": "https://localhost:8080/"
        },
        "id": "_m12oH1vaDuB",
        "outputId": "31d33850-8aa3-4664-f122-95429f883a15"
      },
      "execution_count": 53,
      "outputs": [
        {
          "output_type": "stream",
          "name": "stdout",
          "text": [
            " [1] 24 26 26 29 29 29 31 31 33 33 33 33 37 37 38 38 38 38 41 41 41 43 43 43 45\n",
            "[26] 46 46 46 46 46 46 49 49 49 50 52 52 52 57 57 57 57 57 59 59 60 60 62\n"
          ]
        }
      ]
    },
    {
      "cell_type": "code",
      "source": [
        "#### Médiane (Q2)\n",
        "Q2 <- median(serie_ages)\n",
        "cat(\"Médiane (Q2):\", Q2, \"\\n\")\n",
        "### Quartiles\n",
        "quartiles <- quantile(serie_ages, probs = c(0.25, 0.5, 0.75))\n",
        "cat(\"Premier quartile (Q1):\", quartiles[1], \"\\n\")\n",
        "cat(\"Deuxième quartile (Q2 - médiane):\", quartiles[2], \"\\n\")\n",
        "cat(\"Troisième quartile (Q3):\", quartiles[3], \"\\n\\n\")"
      ],
      "metadata": {
        "colab": {
          "base_uri": "https://localhost:8080/"
        },
        "id": "VHecT-gZbbKU",
        "outputId": "848a98f1-73de-4feb-ff74-16b82f5ed3ef"
      },
      "execution_count": 54,
      "outputs": [
        {
          "output_type": "stream",
          "name": "stdout",
          "text": [
            "Médiane (Q2): 44 \n",
            "Premier quartile (Q1): 36 \n",
            "Deuxième quartile (Q2 - médiane): 44 \n",
            "Troisième quartile (Q3): 52 \n",
            "\n"
          ]
        }
      ]
    },
    {
      "cell_type": "code",
      "source": [
        "# Diagramme en boîte\n",
        "boxplot(serie_ages,\n",
        "        main = \"Diagramme en boîte des âges\",\n",
        "        ylab = \"Âge (années)\",\n",
        "        col = \"lightblue\",\n",
        "        horizontal = TRUE)"
      ],
      "metadata": {
        "colab": {
          "base_uri": "https://localhost:8080/",
          "height": 0
        },
        "id": "Xeqih0UvdNK8",
        "outputId": "8f453504-1e84-49fb-ac31-33fb25ee330d"
      },
      "execution_count": 55,
      "outputs": [
        {
          "output_type": "display_data",
          "data": {
            "text/plain": [
              "Plot with title “Diagramme en boîte des âges”"
            ],
            "image/png": "[encoded data removed]"
          },
          "metadata": {
            "image/png": {
              "width": 420,
              "height": 420
            }
          }
        }
      ]
    },
    {
      "cell_type": "markdown",
      "source": [
        "## **4. Moyenne ,Dispersion Variance et Ecart type**"
      ],
      "metadata": {
        "id": "963ct1p8drSw"
      }
    },
    {
      "cell_type": "markdown",
      "source": [
        "### Moyenne"
      ],
      "metadata": {
        "id": "tElakrQMeVf9"
      }
    },
    {
      "cell_type": "code",
      "source": [
        "### MOYENNE\n",
        "# Calcul direct\n",
        "moyenne <- sum(serie_ages) / length(serie_ages)\n",
        "cat(\"Moyenne directe:\", moyenne, \"\\n\")\n",
        "\n",
        "# Vérification avec la fonction R\n",
        "cat(\"Moyenne avec mean():\", mean(serie_ages), \"\\n\")\n"
      ],
      "metadata": {
        "colab": {
          "base_uri": "https://localhost:8080/"
        },
        "id": "lKgHyIOwdrtj",
        "outputId": "fe394e7b-0432-4c62-fd6f-ba9592ccbb58"
      },
      "execution_count": 56,
      "outputs": [
        {
          "output_type": "stream",
          "name": "stdout",
          "text": [
            "Moyenne directe: 43.625 \n",
            "Moyenne avec mean(): 43.625 \n"
          ]
        }
      ]
    },
    {
      "cell_type": "markdown",
      "source": [
        "### Dispersion"
      ],
      "metadata": {
        "id": "WnbR3vwKebf9"
      }
    },
    {
      "cell_type": "code",
      "source": [
        "### \"Écart interquartile et Intervalle interquartile:\n",
        "IQR <- quartiles[3] - quartiles[1]\n",
        "cat(\"Écart interquartile (IQR):\", IQR, \"ans\\n\")\n",
        "cat(\"Intervalle interquartile: [\", quartiles[1], \";\", quartiles[3], \"]\\n\")\n",
        "### Écart moyen à la moyenne:\"\n",
        "ecart_moyen_moyenne <- mean(abs(serie_ages - mean(serie_ages)))\n",
        "cat(\"Écart moyen à la moyenne:\", round(ecart_moyen_moyenne, 2), \"ans\\n\")\n",
        "### Écart moyen à la médiane:\n",
        "ecart_moyen_mediane <- mean(abs(serie_ages - Q2))\n",
        "cat(\"Écart moyen à la médiane:\", round(ecart_moyen_mediane, 2), \"ans\\n\")"
      ],
      "metadata": {
        "colab": {
          "base_uri": "https://localhost:8080/"
        },
        "id": "U61bfzkleaRt",
        "outputId": "bd55385f-24bf-4f62-f408-e67560f67230"
      },
      "execution_count": 57,
      "outputs": [
        {
          "output_type": "stream",
          "name": "stdout",
          "text": [
            "Écart interquartile (IQR): 16 ans\n",
            "Intervalle interquartile: [ 36 ; 52 ]\n",
            "Écart moyen à la moyenne: 8.83 ans\n",
            "Écart moyen à la médiane: 8.83 ans\n"
          ]
        }
      ]
    },
    {
      "cell_type": "markdown",
      "source": [
        "### Variance et écart-type"
      ],
      "metadata": {
        "id": "7eDioI19gSMu"
      }
    },
    {
      "cell_type": "code",
      "source": [
        "### Variance\n",
        "variance1 <- mean((serie_ages - moyenne)^2)\n",
        "cat(\"Variance:\", variance1, \"\\n\")\n",
        "### Écart-type :\n",
        "ecart_type <- sqrt(variance1)\n",
        "cat(\"Écart-type:\", ecart_type, \"\\n\")"
      ],
      "metadata": {
        "colab": {
          "base_uri": "https://localhost:8080/"
        },
        "id": "q6F649SIgTx0",
        "outputId": "077859e4-e98e-43a2-c09d-ffadce91fea4"
      },
      "execution_count": 58,
      "outputs": [
        {
          "output_type": "stream",
          "name": "stdout",
          "text": [
            "Variance: 109.776 \n",
            "Écart-type: 10.47741 \n"
          ]
        }
      ]
    }
  ]
}